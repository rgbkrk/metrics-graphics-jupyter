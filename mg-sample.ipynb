{
 "cells": [
  {
   "cell_type": "code",
   "execution_count": 1,
   "metadata": {
    "collapsed": false
   },
   "outputs": [
    {
     "data": {
      "text/html": [
       "<!-- For now a complete hack to bring in CSS -->\n",
       "<link rel=\"stylesheet\" href=\"/nbextensions/metricsgraphics/metricsgraphics.css\" type=\"text/css\">"
      ],
      "text/plain": [
       "<IPython.core.display.HTML object>"
      ]
     },
     "metadata": {},
     "output_type": "display_data"
    }
   ],
   "source": [
    "%%html\n",
    "<!-- For now a complete hack to bring in CSS -->\n",
    "<link rel=\"stylesheet\" href=\"/nbextensions/metricsgraphics/metricsgraphics.css\" type=\"text/css\">"
   ]
  },
  {
   "cell_type": "code",
   "execution_count": 2,
   "metadata": {
    "collapsed": false
   },
   "outputs": [
    {
     "name": "stderr",
     "output_type": "stream",
     "text": [
      ":0: FutureWarning: IPython widgets are experimental and may change in the future.\n"
     ]
    }
   ],
   "source": [
    "import metricsgraphics"
   ]
  },
  {
   "cell_type": "code",
   "execution_count": 3,
   "metadata": {
    "collapsed": false
   },
   "outputs": [],
   "source": [
    "data = [{'sightings': 6, 'year': '1945'},\n",
    " {'sightings': 8, 'year': '1946'},\n",
    " {'sightings': 34, 'year': '1947'},\n",
    " {'sightings': 8, 'year': '1948'},\n",
    " {'sightings': 15, 'year': '1949'},\n",
    " {'sightings': 25, 'year': '1950'},\n",
    " {'sightings': 20, 'year': '1951'},\n",
    " {'sightings': 48, 'year': '1952'},\n",
    " {'sightings': 34, 'year': '1953'},\n",
    " {'sightings': 50, 'year': '1954'},\n",
    " {'sightings': 31, 'year': '1955'},\n",
    " {'sightings': 38, 'year': '1956'},\n",
    " {'sightings': 67, 'year': '1957'},\n",
    " {'sightings': 40, 'year': '1958'},\n",
    " {'sightings': 47, 'year': '1959'},\n",
    " {'sightings': 64, 'year': '1960'},\n",
    " {'sightings': 39, 'year': '1961'},\n",
    " {'sightings': 55, 'year': '1962'},\n",
    " {'sightings': 75, 'year': '1963'},\n",
    " {'sightings': 77, 'year': '1964'},\n",
    " {'sightings': 167, 'year': '1965'},\n",
    " {'sightings': 169, 'year': '1966'},\n",
    " {'sightings': 178, 'year': '1967'},\n",
    " {'sightings': 183, 'year': '1968'},\n",
    " {'sightings': 138, 'year': '1969'},\n",
    " {'sightings': 126, 'year': '1970'},\n",
    " {'sightings': 110, 'year': '1971'},\n",
    " {'sightings': 146, 'year': '1972'},\n",
    " {'sightings': 209, 'year': '1973'},\n",
    " {'sightings': 241, 'year': '1974'},\n",
    " {'sightings': 279, 'year': '1975'},\n",
    " {'sightings': 246, 'year': '1976'},\n",
    " {'sightings': 239, 'year': '1977'},\n",
    " {'sightings': 301, 'year': '1978'},\n",
    " {'sightings': 221, 'year': '1979'},\n",
    " {'sightings': 211, 'year': '1980'},\n",
    " {'sightings': 146, 'year': '1981'},\n",
    " {'sightings': 182, 'year': '1982'},\n",
    " {'sightings': 132, 'year': '1983'},\n",
    " {'sightings': 172, 'year': '1984'},\n",
    " {'sightings': 192, 'year': '1985'},\n",
    " {'sightings': 173, 'year': '1986'},\n",
    " {'sightings': 193, 'year': '1987'},\n",
    " {'sightings': 203, 'year': '1988'},\n",
    " {'sightings': 220, 'year': '1989'},\n",
    " {'sightings': 217, 'year': '1990'},\n",
    " {'sightings': 210, 'year': '1991'},\n",
    " {'sightings': 228, 'year': '1992'},\n",
    " {'sightings': 285, 'year': '1993'},\n",
    " {'sightings': 381, 'year': '1994'},\n",
    " {'sightings': 1336, 'year': '1995'},\n",
    " {'sightings': 862, 'year': '1996'},\n",
    " {'sightings': 1248, 'year': '1997'},\n",
    " {'sightings': 1812, 'year': '1998'},\n",
    " {'sightings': 2906, 'year': '1999'},\n",
    " {'sightings': 2780, 'year': '2000'},\n",
    " {'sightings': 3105, 'year': '2001'},\n",
    " {'sightings': 3176, 'year': '2002'},\n",
    " {'sightings': 3896, 'year': '2003'},\n",
    " {'sightings': 4208, 'year': '2004'},\n",
    " {'sightings': 3996, 'year': '2005'},\n",
    " {'sightings': 3590, 'year': '2006'},\n",
    " {'sightings': 4195, 'year': '2007'},\n",
    " {'sightings': 4705, 'year': '2008'},\n",
    " {'sightings': 4297, 'year': '2009'},\n",
    " #{'sightings': 2531, 'year': '2010'}\n",
    "]"
   ]
  },
  {
   "cell_type": "code",
   "execution_count": 5,
   "metadata": {
    "collapsed": false
   },
   "outputs": [],
   "source": [
    "mv = metricsgraphics.MetricsGraphicsView(data=data, title='UFO Sightings',\n",
    "                                         description='Everything in the sky is unidentifiable from a good distance', \n",
    "                                         x_accessor='year', y_accessor='sightings', width=800,\n",
    "                                         markers=[{'year': 1996, 'label': '\"Independence Day\" released'}] )\n",
    "mv.markers = mv.markers + [{'label': '\"Invasion of the Body Snatchers\" released', 'year': 1978 }]\n",
    "mv"
   ]
  },
  {
   "cell_type": "code",
   "execution_count": null,
   "metadata": {
    "collapsed": true
   },
   "outputs": [],
   "source": []
  }
 ],
 "metadata": {
  "kernelspec": {
   "display_name": "Python 2",
   "language": "python",
   "name": "python2"
  },
  "language_info": {
   "codemirror_mode": {
    "name": "ipython",
    "version": 2
   },
   "file_extension": ".py",
   "mimetype": "text/x-python",
   "name": "python",
   "nbconvert_exporter": "python",
   "pygments_lexer": "ipython2",
   "version": "2.7.8"
  }
 },
 "nbformat": 4,
 "nbformat_minor": 0
}
